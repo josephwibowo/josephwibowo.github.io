{
 "cells": [
  {
   "cell_type": "code",
   "execution_count": 68,
   "metadata": {},
   "outputs": [],
   "source": [
    "import pandas as pd\n",
    "import re\n",
    "import json"
   ]
  },
  {
   "cell_type": "code",
   "execution_count": 2,
   "metadata": {},
   "outputs": [],
   "source": [
    "df = pd.read_csv('data.csv')"
   ]
  },
  {
   "cell_type": "code",
   "execution_count": 4,
   "metadata": {},
   "outputs": [],
   "source": [
    "event_names = list(df['event_name'])"
   ]
  },
  {
   "cell_type": "code",
   "execution_count": 71,
   "metadata": {},
   "outputs": [],
   "source": [
    "stopwords = ['The', 'And', 'In', 'For', 'At', 'To', 'On', 'A', 'An', 'Of', 'With', 'By', 'Its', 'Can', 'Be', 'It',\n",
    "             'Too', 'Are', 'Day', 'As', 'My', 'Your', '']\n",
    "words = []\n",
    "for name in event_names:\n",
    "    # Save spaces for compound words like San_Francisco     \n",
    "    name = re.sub(r'((?:^|\\W)san)\\s|((?:^|\\W)de)\\s|((?:^|\\W)los)\\s', r'\\1\\2\\3_', name.lower())\n",
    "    # Remove extraneous non-alphanumeric chars\n",
    "    name = re.sub(r'[^0-9a-zA-Z\\s_]+', '', name)\n",
    "    # Remove dates and time references\n",
    "    name = re.sub(r'[0-9]+(pm|am|th)', '', name).strip().title()\n",
    "    \n",
    "    for word in name.split(' '):\n",
    "        if word not in stopwords and len(word) > 1 and not word.isdigit():\n",
    "            words.append(word)"
   ]
  },
  {
   "cell_type": "code",
   "execution_count": 73,
   "metadata": {},
   "outputs": [],
   "source": [
    "with open('words.json', 'w') as outfile:\n",
    "    json.dump({'words': words}, outfile)"
   ]
  }
 ],
 "metadata": {
  "kernelspec": {
   "display_name": "Python 3",
   "language": "python",
   "name": "python3"
  },
  "language_info": {
   "codemirror_mode": {
    "name": "ipython",
    "version": 3
   },
   "file_extension": ".py",
   "mimetype": "text/x-python",
   "name": "python",
   "nbconvert_exporter": "python",
   "pygments_lexer": "ipython3",
   "version": "3.6.5"
  }
 },
 "nbformat": 4,
 "nbformat_minor": 2
}
